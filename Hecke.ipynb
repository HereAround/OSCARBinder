{
 "cells": [
  {
   "cell_type": "markdown",
   "metadata": {},
   "source": [
    "In order to use Hecke, it needs loading:"
   ]
  },
  {
   "cell_type": "code",
   "execution_count": 1,
   "metadata": {},
   "outputs": [
    {
     "name": "stderr",
     "output_type": "stream",
     "text": [
      "\u001b[1m\u001b[36mINFO: \u001b[39m\u001b[22m\u001b[36mPrecompiling module Hecke.\n",
      "\u001b[39m"
     ]
    },
    {
     "name": "stdout",
     "output_type": "stream",
     "text": [
      "\n",
      "Welcome to AbstractAlgebra version 0.0.8\n",
      "\n",
      "AbstractAlgebra comes with absolutely no warranty whatsoever\n",
      "\n",
      "\n",
      "Welcome to AbstractAlgebra version 0.0.8\n",
      "\n",
      "AbstractAlgebra comes with absolutely no warranty whatsoever\n",
      "\n",
      "\n",
      "Welcome to Nemo version 0.8.4\n",
      "\n",
      "Nemo comes with absolutely no warranty whatsoever\n",
      "\n"
     ]
    },
    {
     "name": "stderr",
     "output_type": "stream",
     "text": [
      "WARNING: Method definition quadratic_extensions(Int64) in module Hecke at /home/oscar/.julia/v0.6/Hecke/src/RCF/conductor_sieve.jl:802 overwritten at /home/oscar/.julia/v0.6/Hecke/src/RCF/conductor_sieve.jl:836.\n",
      "WARNING: Method definition #quadratic_extensions(Array{Any, 1}, typeof(Hecke.quadratic_extensions), Int64) in module Hecke overwritten.\n"
     ]
    },
    {
     "name": "stdout",
     "output_type": "stream",
     "text": [
      "\n",
      "Welcome to AbstractAlgebra version 0.0.8\n",
      "\n",
      "AbstractAlgebra comes with absolutely no warranty whatsoever\n",
      "\n",
      "\n",
      "Welcome to Nemo version 0.8.4\n",
      "\n",
      "Nemo comes with absolutely no warranty whatsoever\n",
      "\n",
      "\n",
      "Welcome to \n",
      "\u001b[31m\n",
      "    _    _           _        \n",
      "   | |  | |         | |       \n",
      "   | |__| | ___  ___| | _____ \n",
      "   |  __  |/ _ \\/ __| |/ / _ \\\n",
      "   | |  | |  __/ (__|   <  __/\n",
      "   |_|  |_|\\___|\\___|_|\\_\\___|\n",
      "    \u001b[39m\n",
      "Version\u001b[32m 0.4.5 \u001b[39m... \n",
      " ... which comes with absolutely no warranty whatsoever\n",
      "(c) 2015-2018 by Claus Fieker, Tommy Hofmann and Carlo Sircana\n",
      "\n"
     ]
    }
   ],
   "source": [
    "using Hecke\n"
   ]
  },
  {
   "cell_type": "markdown",
   "metadata": {},
   "source": [
    "Do define number fields, in general we need polynmials, so we define a polynomial ring, then a number field.\n",
    "$a$ will be the primitive element, hence a root of $x^2-10$"
   ]
  },
  {
   "cell_type": "code",
   "execution_count": 2,
   "metadata": {},
   "outputs": [
    {
     "data": {
      "text/plain": [
       "(Number field over Rational Field with defining polynomial x^2-10, _a)"
      ]
     },
     "execution_count": 2,
     "metadata": {},
     "output_type": "execute_result"
    }
   ],
   "source": [
    "Qx, x = FlintQQ[\"x\"]\n",
    "k, a = number_field(x^2-10)"
   ]
  },
  {
   "cell_type": "markdown",
   "metadata": {},
   "source": [
    "To extend further, we need polynomials over $k$, then we can define an extension."
   ]
  },
  {
   "cell_type": "code",
   "execution_count": 3,
   "metadata": {},
   "outputs": [
    {
     "data": {
      "text/plain": [
       "(Univariate Polynomial Ring in t over Number field over Rational Field with defining polynomial x^2-10, t)"
      ]
     },
     "execution_count": 3,
     "metadata": {},
     "output_type": "execute_result"
    }
   ],
   "source": [
    "kt,t = k[\"t\"]"
   ]
  },
  {
   "cell_type": "code",
   "execution_count": 4,
   "metadata": {},
   "outputs": [
    {
     "data": {
      "text/plain": [
       "(Relative number field over\n",
       "Number field over Rational Field with defining polynomial x^2-10\n",
       " with defining polynomial t^3+(-_a)*t+(_a+1), _$)"
      ]
     },
     "execution_count": 4,
     "metadata": {},
     "output_type": "execute_result"
    }
   ],
   "source": [
    "K, b = number_field(t^3-a*t+a+1)"
   ]
  },
  {
   "cell_type": "markdown",
   "metadata": {},
   "source": [
    "For many algorithm, finding a primitive element is important. The maps are the isomorphism between the relative and absolute fields and the embedding from $k$."
   ]
  },
  {
   "cell_type": "code",
   "execution_count": 5,
   "metadata": {},
   "outputs": [
    {
     "data": {
      "text/plain": [
       "(Number field over Rational Field with defining polynomial x^6+2*x^3-10*x^2+20*x-9, Isomorphism between Relative number field over\n",
       "Number field over Rational Field with defining polynomial x^2-10\n",
       " with defining polynomial t^3+(-_a)*t+(_a+1)\n",
       "and Number field over Rational Field with defining polynomial x^6+2*x^3-10*x^2+20*x-9\n",
       ", Injection of Number field over Rational Field with defining polynomial x^2-10 into Number field over Rational Field with defining polynomial x^6+2*x^3-10*x^2+20*x-9\n",
       "defined by _a -> -1//2*_$^5 - 1//2*_$^4 - 1//2*_$^3 - 1//2*_$^2 + 9//2*_$ - 11//2\n",
       ")"
      ]
     },
     "execution_count": 5,
     "metadata": {},
     "output_type": "execute_result"
    }
   ],
   "source": [
    "Ka, m1, m2 = absolute_field(K)"
   ]
  },
  {
   "cell_type": "markdown",
   "metadata": {},
   "source": [
    "To check that $m_2$ is indeed the embedding, we veryify $m_2(a)^2 = 10$:"
   ]
  },
  {
   "cell_type": "code",
   "execution_count": 6,
   "metadata": {},
   "outputs": [
    {
     "data": {
      "text/plain": [
       "-1//2*_$^5 - 1//2*_$^4 - 1//2*_$^3 - 1//2*_$^2 + 9//2*_$ - 11//2"
      ]
     },
     "execution_count": 6,
     "metadata": {},
     "output_type": "execute_result"
    }
   ],
   "source": [
    "m2(a)"
   ]
  },
  {
   "cell_type": "code",
   "execution_count": 7,
   "metadata": {},
   "outputs": [
    {
     "data": {
      "text/plain": [
       "10"
      ]
     },
     "execution_count": 7,
     "metadata": {},
     "output_type": "execute_result"
    }
   ],
   "source": [
    "ans^2"
   ]
  },
  {
   "cell_type": "markdown",
   "metadata": {},
   "source": [
    "Given that we did not assign a name to the primitive element of $K_a$ it is printed generically:"
   ]
  },
  {
   "cell_type": "code",
   "execution_count": 8,
   "metadata": {},
   "outputs": [
    {
     "data": {
      "text/plain": [
       "_$"
      ]
     },
     "execution_count": 8,
     "metadata": {},
     "output_type": "execute_result"
    }
   ],
   "source": [
    "m1(b)"
   ]
  },
  {
   "cell_type": "markdown",
   "metadata": {},
   "source": [
    "Checking that is still satisfies the equation for $b$:"
   ]
  },
  {
   "cell_type": "code",
   "execution_count": 9,
   "metadata": {},
   "outputs": [
    {
     "data": {
      "text/plain": [
       "-1"
      ]
     },
     "execution_count": 9,
     "metadata": {},
     "output_type": "execute_result"
    }
   ],
   "source": [
    "ans^3-m2(a)*ans+m2(a)"
   ]
  },
  {
   "cell_type": "markdown",
   "metadata": {},
   "source": [
    "and some invariants.."
   ]
  },
  {
   "cell_type": "code",
   "execution_count": 10,
   "metadata": {},
   "outputs": [
    {
     "data": {
      "text/plain": [
       "(-_a-1, -14*_a-297, -9)"
      ]
     },
     "execution_count": 10,
     "metadata": {},
     "output_type": "execute_result"
    }
   ],
   "source": [
    "norm(b), discriminant(K), norm(b, FlintQQ)"
   ]
  },
  {
   "cell_type": "markdown",
   "metadata": {},
   "source": [
    "In addition to absolute and relative fields given via a polynomial (hence a primitive element) we also\n",
    "have {\\em non-simple} fields, given via the roots of several polynomials.\n",
    "Note: the ideal defined by the polynomials needs to be maximal. This is not verified."
   ]
  },
  {
   "cell_type": "code",
   "execution_count": 11,
   "metadata": {},
   "outputs": [
    {
     "data": {
      "text/plain": [
       "(Non-simple number field with defining polynomials Nemo.fmpq_mpoly[_$1^2 - 3, _$2^2 - 5, _$3^2 - 7], Hecke.NfAbsNSElem[_$1, _$2, _$3])"
      ]
     },
     "execution_count": 11,
     "metadata": {},
     "output_type": "execute_result"
    }
   ],
   "source": [
    "k, g = number_field([x^2-3, x^2-5, x^2-7])"
   ]
  },
  {
   "cell_type": "code",
   "execution_count": 12,
   "metadata": {},
   "outputs": [
    {
     "data": {
      "text/plain": [
       "3"
      ]
     },
     "execution_count": 12,
     "metadata": {},
     "output_type": "execute_result"
    }
   ],
   "source": [
    "g[1]^2"
   ]
  },
  {
   "cell_type": "code",
   "execution_count": 13,
   "metadata": {},
   "outputs": [
    {
     "data": {
      "text/plain": [
       "8-element Array{Hecke.NfAbsNSElem,1}:\n",
       " 1  \n",
       " 3  \n",
       " 5  \n",
       " 15 \n",
       " 7  \n",
       " 21 \n",
       " 35 \n",
       " 105"
      ]
     },
     "execution_count": 13,
     "metadata": {},
     "output_type": "execute_result"
    }
   ],
   "source": [
    "[x^2 for x = basis(k)]"
   ]
  },
  {
   "cell_type": "markdown",
   "metadata": {},
   "source": [
    "Similar to above, we can convert to a primitive representation:"
   ]
  },
  {
   "cell_type": "code",
   "execution_count": 14,
   "metadata": {},
   "outputs": [
    {
     "data": {
      "text/plain": [
       "(Number field over Rational Field with defining polynomial t^8-60*t^6+782*t^4-3180*t^2+3481, Map with following data\n",
       "Domain:\n",
       "=======\n",
       "Number field over Rational Field with defining polynomial t^8-60*t^6+782*t^4-3180*t^2+3481\n",
       "\n",
       "Codomain:\n",
       "=========\n",
       "Non-simple number field with defining polynomials Nemo.fmpq_mpoly[_$1^2 - 3, _$2^2 - 5, _$3^2 - 7]\n",
       ")"
      ]
     },
     "execution_count": 14,
     "metadata": {},
     "output_type": "execute_result"
    }
   ],
   "source": [
    "ks, ms = simple_extension(k)"
   ]
  },
  {
   "cell_type": "code",
   "execution_count": 15,
   "metadata": {},
   "outputs": [
    {
     "data": {
      "text/plain": [
       "3//7552*_a^7 - 121//7552*_a^5 - 663//7552*_a^3 + 11405//7552*_a"
      ]
     },
     "execution_count": 15,
     "metadata": {},
     "output_type": "execute_result"
    }
   ],
   "source": [
    "ms\\g[1]"
   ]
  },
  {
   "cell_type": "code",
   "execution_count": 16,
   "metadata": {},
   "outputs": [
    {
     "data": {
      "text/plain": [
       "3"
      ]
     },
     "execution_count": 16,
     "metadata": {},
     "output_type": "execute_result"
    }
   ],
   "source": [
    "ans^2"
   ]
  }
 ],
 "metadata": {
  "kernelspec": {
   "display_name": "Julia 0.6.3",
   "language": "julia",
   "name": "julia-0.6"
  },
  "language_info": {
   "file_extension": ".jl",
   "mimetype": "application/julia",
   "name": "julia",
   "version": "0.6.3"
  }
 },
 "nbformat": 4,
 "nbformat_minor": 2
}
