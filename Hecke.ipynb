{
 "cells": [
  {
   "cell_type": "markdown",
   "metadata": {},
   "source": [
    "In order to use Hecke, it needs loading:"
   ]
  },
  {
   "cell_type": "code",
   "execution_count": 1,
   "metadata": {},
   "outputs": [
    {
     "name": "stdout",
     "output_type": "stream",
     "text": [
      "\n",
      "Welcome to Nemo version 0.16.4-dev\n",
      "\n",
      "Nemo comes with absolutely no warranty whatsoever\n",
      "\n",
      "\n",
      "Welcome to \n"
     ]
    },
    {
     "data": {
      "text/html": [
       "$\\require{action}$"
      ]
     },
     "metadata": {},
     "output_type": "display_data"
    },
    {
     "name": "stdout",
     "output_type": "stream",
     "text": [
      "\n",
      "\u001b[31m    _    _           _\u001b[39m\n",
      "\u001b[31m   | |  | |         | |\u001b[39m\n",
      "\u001b[31m   | |__| | ___  ___| | _____\u001b[39m\n",
      "\u001b[31m   |  __  |/ _ \\/ __| |/ / _ \\\u001b[39m\n",
      "\u001b[31m   | |  | |  __/ (__|   <  __/\u001b[39m\n",
      "\u001b[31m   |_|  |_|\\___|\\___|_|\\_\\___|\u001b[39m\n",
      "\u001b[31m    \u001b[39m\n",
      "Version\u001b[32m 0.7.3-dev \u001b[39m... \n",
      " ... which comes with absolutely no warranty whatsoever\n",
      "(c) 2015-2019 by Claus Fieker, Tommy Hofmann and Carlo Sircana\n",
      "\n"
     ]
    }
   ],
   "source": [
    "using Hecke\n"
   ]
  },
  {
   "cell_type": "markdown",
   "metadata": {},
   "source": [
    "Do define number fields, in general we need polynmials, so we define a polynomial ring, then a number field.\n",
    "$a$ will be the primitive element, hence a root of $x^2-10$"
   ]
  },
  {
   "cell_type": "code",
   "execution_count": 2,
   "metadata": {},
   "outputs": [
    {
     "data": {
      "text/html": [
       "($k$, $\\alpha$)"
      ],
      "text/plain": [
       "(Number field over Rational Field with defining polynomial x^2-10, _a)"
      ]
     },
     "execution_count": 2,
     "metadata": {},
     "output_type": "execute_result"
    }
   ],
   "source": [
    "Qx, x = FlintQQ[\"x\"]\n",
    "k, a = number_field(x^2-10)"
   ]
  },
  {
   "cell_type": "markdown",
   "metadata": {},
   "source": [
    "To extend further, we need polynomials over $k$, then we can define an extension."
   ]
  },
  {
   "cell_type": "code",
   "execution_count": 3,
   "metadata": {},
   "outputs": [
    {
     "data": {
      "text/html": [
       "($kt$, $t$)"
      ],
      "text/plain": [
       "(Univariate Polynomial Ring in t over Number field over Rational Field with defining polynomial x^2-10, t)"
      ]
     },
     "execution_count": 3,
     "metadata": {},
     "output_type": "execute_result"
    }
   ],
   "source": [
    "kt,t = k[\"t\"]"
   ]
  },
  {
   "cell_type": "code",
   "execution_count": 4,
   "metadata": {},
   "outputs": [
    {
     "data": {
      "text/plain": [
       "(Relative number field over\n",
       "Number field over Rational Field with defining polynomial x^2-10\n",
       " with defining polynomial t^3+(-_a)*t+(_a+1), _$)"
      ]
     },
     "execution_count": 4,
     "metadata": {},
     "output_type": "execute_result"
    }
   ],
   "source": [
    "K, b = number_field(t^3-a*t+a+1)"
   ]
  },
  {
   "cell_type": "markdown",
   "metadata": {},
   "source": [
    "For many algorithm, finding a primitive element is important. The maps are the isomorphism between the relative and absolute fields and the embedding from $k$."
   ]
  },
  {
   "cell_type": "code",
   "execution_count": 5,
   "metadata": {},
   "outputs": [
    {
     "data": {
      "text/html": [
       "($Ka$, $m1: Ka\\to K$, $m2: k\\to Ka$)"
      ],
      "text/plain": [
       "(Number field over Rational Field with defining polynomial x^6+2*x^3-10*x^2+20*x-9, Morphism between Number field over Rational Field with defining polynomial x^6+2*x^3-10*x^2+20*x-9\n",
       "and Relative number field over\n",
       "Number field over Rational Field with defining polynomial x^2-10\n",
       " with defining polynomial t^3+(-_a)*t+(_a+1)\n",
       ", Injection of Number field over Rational Field with defining polynomial x^2-10 into Number field over Rational Field with defining polynomial x^6+2*x^3-10*x^2+20*x-9\n",
       "defined by _a -> -1//2*x^5 - 1//2*x^4 - 1//2*x^3 - 1//2*x^2 + 9//2*x - 11//2\n",
       ")"
      ]
     },
     "execution_count": 5,
     "metadata": {},
     "output_type": "execute_result"
    }
   ],
   "source": [
    "Ka, m1, m2 = absolute_field(K)"
   ]
  },
  {
   "cell_type": "markdown",
   "metadata": {},
   "source": [
    "To check that $m_2$ is indeed the embedding, we veryify $m_2(a)^2 = 10$:"
   ]
  },
  {
   "cell_type": "code",
   "execution_count": 6,
   "metadata": {},
   "outputs": [
    {
     "data": {
      "text/html": [
       "$-\\frac{1}{2}x^{5} - \\frac{1}{2}x^{4} - \\frac{1}{2}x^{3} - \\frac{1}{2}x^{2} + \\frac{9}{2}x - \\frac{11}{2}$"
      ],
      "text/plain": [
       "-1//2*x^5 - 1//2*x^4 - 1//2*x^3 - 1//2*x^2 + 9//2*x - 11//2"
      ]
     },
     "execution_count": 6,
     "metadata": {},
     "output_type": "execute_result"
    }
   ],
   "source": [
    "m2(a)"
   ]
  },
  {
   "cell_type": "code",
   "execution_count": 7,
   "metadata": {},
   "outputs": [
    {
     "data": {
      "text/html": [
       "$10$"
      ],
      "text/plain": [
       "10"
      ]
     },
     "execution_count": 7,
     "metadata": {},
     "output_type": "execute_result"
    }
   ],
   "source": [
    "ans^2"
   ]
  },
  {
   "cell_type": "markdown",
   "metadata": {},
   "source": [
    "Given that we did not assign a name to the primitive element of $K_a$ it is printed generically:"
   ]
  },
  {
   "cell_type": "code",
   "execution_count": 17,
   "metadata": {},
   "outputs": [
    {
     "data": {
      "text/html": [
       "$x$"
      ],
      "text/plain": [
       "x"
      ]
     },
     "execution_count": 17,
     "metadata": {},
     "output_type": "execute_result"
    }
   ],
   "source": [
    "preimage(m1, b)"
   ]
  },
  {
   "cell_type": "markdown",
   "metadata": {},
   "source": [
    "Checking that is still satisfies the equation for $b$:"
   ]
  },
  {
   "cell_type": "code",
   "execution_count": 18,
   "metadata": {},
   "outputs": [
    {
     "data": {
      "text/html": [
       "$-1$"
      ],
      "text/plain": [
       "-1"
      ]
     },
     "execution_count": 18,
     "metadata": {},
     "output_type": "execute_result"
    }
   ],
   "source": [
    "ans^3-m2(a)*ans+m2(a)"
   ]
  },
  {
   "cell_type": "markdown",
   "metadata": {},
   "source": [
    "and some invariants.."
   ]
  },
  {
   "cell_type": "code",
   "execution_count": 10,
   "metadata": {},
   "outputs": [
    {
     "data": {
      "text/html": [
       "($-\\alpha-1$, $-14\\alpha-297$, $-9$)"
      ],
      "text/plain": [
       "(-_a-1, -14*_a-297, -9)"
      ]
     },
     "execution_count": 10,
     "metadata": {},
     "output_type": "execute_result"
    }
   ],
   "source": [
    "norm(b), discriminant(K), norm(b, FlintQQ)"
   ]
  },
  {
   "cell_type": "markdown",
   "metadata": {},
   "source": [
    "In addition to absolute and relative fields given via a polynomial (hence a primitive element) we also\n",
    "have {\\em non-simple} fields, given via the roots of several polynomials.\n",
    "Note: the ideal defined by the polynomials needs to be maximal. This is not verified."
   ]
  },
  {
   "cell_type": "code",
   "execution_count": 11,
   "metadata": {},
   "outputs": [
    {
     "data": {
      "text/plain": [
       "(Non-simple number field with defining polynomials fmpq_mpoly[x1^2 - 3, x2^2 - 5, x3^2 - 7], NfAbsNSElem[_$1, _$2, _$3])"
      ]
     },
     "execution_count": 11,
     "metadata": {},
     "output_type": "execute_result"
    }
   ],
   "source": [
    "k, g = number_field([x^2-3, x^2-5, x^2-7])"
   ]
  },
  {
   "cell_type": "code",
   "execution_count": 12,
   "metadata": {},
   "outputs": [
    {
     "data": {
      "text/plain": [
       "3"
      ]
     },
     "execution_count": 12,
     "metadata": {},
     "output_type": "execute_result"
    }
   ],
   "source": [
    "g[1]^2"
   ]
  },
  {
   "cell_type": "code",
   "execution_count": 13,
   "metadata": {},
   "outputs": [
    {
     "data": {
      "text/html": [
       "$[1, 3, 5, 15, 7, 21, 35, 105]$"
      ],
      "text/plain": [
       "8-element Array{NfAbsNSElem,1}:\n",
       " 1\n",
       " 3\n",
       " 5\n",
       " 15\n",
       " 7\n",
       " 21\n",
       " 35\n",
       " 105"
      ]
     },
     "execution_count": 13,
     "metadata": {},
     "output_type": "execute_result"
    }
   ],
   "source": [
    "[x^2 for x = basis(k)]"
   ]
  },
  {
   "cell_type": "markdown",
   "metadata": {},
   "source": [
    "Similar to above, we can convert to a primitive representation:"
   ]
  },
  {
   "cell_type": "code",
   "execution_count": 14,
   "metadata": {},
   "outputs": [
    {
     "data": {
      "text/html": [
       "($ks$, $ms: ks\\to k$)"
      ],
      "text/plain": [
       "(Number field over Rational Field with defining polynomial x^8-60*x^6+782*x^4-3180*x^2+3481, Map with following data\n",
       "Domain:\n",
       "=======\n",
       "Number field over Rational Field with defining polynomial x^8-60*x^6+782*x^4-3180*x^2+3481\n",
       "Codomain:\n",
       "=========\n",
       "k\n",
       ")"
      ]
     },
     "execution_count": 14,
     "metadata": {},
     "output_type": "execute_result"
    }
   ],
   "source": [
    "ks, ms = simple_extension(k)"
   ]
  },
  {
   "cell_type": "code",
   "execution_count": 15,
   "metadata": {},
   "outputs": [
    {
     "data": {
      "text/html": [
       "$\\frac{3}{7552}\\alpha^{7} - \\frac{121}{7552}\\alpha^{5} - \\frac{663}{7552}\\alpha^{3} + \\frac{11405}{7552}\\alpha$"
      ],
      "text/plain": [
       "3//7552*_a^7 - 121//7552*_a^5 - 663//7552*_a^3 + 11405//7552*_a"
      ]
     },
     "execution_count": 15,
     "metadata": {},
     "output_type": "execute_result"
    }
   ],
   "source": [
    "ms\\g[1]"
   ]
  },
  {
   "cell_type": "code",
   "execution_count": 16,
   "metadata": {},
   "outputs": [
    {
     "data": {
      "text/html": [
       "$3$"
      ],
      "text/plain": [
       "3"
      ]
     },
     "execution_count": 16,
     "metadata": {},
     "output_type": "execute_result"
    }
   ],
   "source": [
    "ans^2"
   ]
  }
 ],
 "metadata": {
  "@webio": {
   "lastCommId": null,
   "lastKernelId": null
  },
  "kernelspec": {
   "display_name": "Julia 1.4.0-rc1",
   "language": "julia",
   "name": "julia-1.4"
  },
  "language_info": {
   "file_extension": ".jl",
   "mimetype": "application/julia",
   "name": "julia",
   "version": "1.4.0"
  }
 },
 "nbformat": 4,
 "nbformat_minor": 2
}
