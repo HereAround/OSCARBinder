{
 "cells": [
  {
   "cell_type": "markdown",
   "metadata": {},
   "source": [
    "# Singular.jl example\n",
    "\n",
    "Example for Singular.jl\n",
    "\n",
    "Start by initializing Cxx (necessary for Docker)"
   ]
  },
  {
   "cell_type": "code",
   "execution_count": 1,
   "metadata": {},
   "outputs": [],
   "source": [
    "using Cxx"
   ]
  },
  {
   "cell_type": "markdown",
   "metadata": {},
   "source": [
    "Load Singular"
   ]
  },
  {
   "cell_type": "code",
   "execution_count": 2,
   "metadata": {},
   "outputs": [
    {
     "name": "stdout",
     "output_type": "stream",
     "text": [
      "\n",
      "Welcome to AbstractAlgebra version 0.0.8\n",
      "\n",
      "AbstractAlgebra comes with absolutely no warranty whatsoever\n",
      "\n",
      "\n",
      "Welcome to Nemo version 0.8.4\n",
      "\n",
      "Nemo comes with absolutely no warranty whatsoever\n",
      "\n"
     ]
    }
   ],
   "source": [
    "using Singular"
   ]
  },
  {
   "cell_type": "markdown",
   "metadata": {},
   "source": [
    "Generate an integer polynomial ring"
   ]
  },
  {
   "cell_type": "code",
   "execution_count": 3,
   "metadata": {},
   "outputs": [
    {
     "data": {
      "text/plain": [
       "(Singular Polynomial Ring (ZZ),(x,y,z),(dp(3),C), Singular.spoly{Singular.n_Z}[x, y, z])"
      ]
     },
     "execution_count": 3,
     "metadata": {},
     "output_type": "execute_result"
    }
   ],
   "source": [
    "R, ( x, y, z ) = PolynomialRing( ZZ, [ \"x\", \"y\", \"z\" ] )"
   ]
  },
  {
   "cell_type": "markdown",
   "metadata": {},
   "source": [
    "Create some polynomials"
   ]
  },
  {
   "cell_type": "code",
   "execution_count": 4,
   "metadata": {},
   "outputs": [
    {
     "data": {
      "text/plain": [
       "x^3+y^3+z^3"
      ]
     },
     "execution_count": 4,
     "metadata": {},
     "output_type": "execute_result"
    }
   ],
   "source": [
    "p = x + y + z\n",
    "q = x + y^2 + z^3\n",
    "r = x^3 + y^3 + z^3"
   ]
  },
  {
   "cell_type": "markdown",
   "metadata": {},
   "source": [
    "Create an ideal containing the polynomials p,q,r"
   ]
  },
  {
   "cell_type": "code",
   "execution_count": 5,
   "metadata": {},
   "outputs": [
    {
     "data": {
      "text/plain": [
       "Singular Ideal over Singular Polynomial Ring (ZZ),(x,y,z),(dp(3),C) with generators (x+y+z, z^3+y^2+x, x^3+y^3+z^3)"
      ]
     },
     "execution_count": 5,
     "metadata": {},
     "output_type": "execute_result"
    }
   ],
   "source": [
    "ideal = Ideal( R, [ p, q, r ] )"
   ]
  },
  {
   "cell_type": "markdown",
   "metadata": {},
   "source": [
    "Compute a standard basis of the ideal"
   ]
  },
  {
   "cell_type": "code",
   "execution_count": 6,
   "metadata": {},
   "outputs": [
    {
     "data": {
      "text/plain": [
       "Singular Ideal over Singular Polynomial Ring (ZZ),(x,y,z),(dp(3),C) with generators (x+y+z, z^3+y^2-y-z, 3*y^2*z+3*y*z^2, 3*y^4-6*y^3+3*y*z^2+3*y^2+3*y*z)"
      ]
     },
     "execution_count": 6,
     "metadata": {},
     "output_type": "execute_result"
    }
   ],
   "source": [
    "basis = std( ideal )"
   ]
  },
  {
   "cell_type": "markdown",
   "metadata": {},
   "source": [
    "Compute the ideal of leading monomials of basis"
   ]
  },
  {
   "cell_type": "code",
   "execution_count": 7,
   "metadata": {},
   "outputs": [
    {
     "data": {
      "text/plain": [
       "Singular Ideal over Singular Polynomial Ring (ZZ),(x,y,z),(dp(3),C) with generators (x, z^3, 3*y^2*z, 3*y^4)"
      ]
     },
     "execution_count": 7,
     "metadata": {},
     "output_type": "execute_result"
    }
   ],
   "source": [
    "basis_lead = lead( basis )"
   ]
  },
  {
   "cell_type": "markdown",
   "metadata": {},
   "source": [
    "Compute the syzygies of basis"
   ]
  },
  {
   "cell_type": "code",
   "execution_count": 8,
   "metadata": {},
   "outputs": [
    {
     "data": {
      "text/plain": [
       "Singular Module over Singular Polynomial Ring (ZZ),(x,y,z),(dp(3),C)3*y^2*gen(2)+3*y*z*gen(2)-z^2*gen(3)-y*gen(3)-3*y*gen(2)+z*gen(3)-gen(4)+2*gen(3)\n",
       "y^2*gen(3)-y*z*gen(3)-3*y*z*gen(2)+z^2*gen(3)-y*gen(3)-z*gen(4)+z*gen(3)\n",
       "z^3*gen(1)+y^2*gen(1)-x*gen(2)-y*gen(2)-y*gen(1)-z*gen(2)-z*gen(1)\n",
       "3*y^2*z*gen(1)+3*y*z^2*gen(1)-x*gen(3)-y*gen(3)-z*gen(3)\n",
       "3*y^4*gen(1)-6*y^3*gen(1)+3*y*z^2*gen(1)+3*y^2*gen(1)+3*y*z*gen(1)-x*gen(4)-y*gen(4)-z*gen(4)"
      ]
     },
     "execution_count": 8,
     "metadata": {},
     "output_type": "execute_result"
    },
    {
     "name": "stdout",
     "output_type": "stream",
     "text": [
      ", with Generators:\n"
     ]
    }
   ],
   "source": [
    "basis_syzygies = syz( basis )"
   ]
  },
  {
   "cell_type": "markdown",
   "metadata": {},
   "source": [
    "Compute the standard basis of the syzygies"
   ]
  },
  {
   "cell_type": "code",
   "execution_count": 9,
   "metadata": {},
   "outputs": [
    {
     "data": {
      "text/plain": [
       "Singular Module over Singular Polynomial Ring (ZZ),(x,y,z),(dp(3),C)3*y^2*gen(2)+3*y*z*gen(2)-z^2*gen(3)-y*gen(3)-3*y*gen(2)+z*gen(3)-gen(4)+2*gen(3)\n",
       "y^2*gen(3)-y*z*gen(3)-3*y*z*gen(2)+z^2*gen(3)-y*gen(3)-z*gen(4)+z*gen(3)\n",
       "z^3*gen(1)+y^2*gen(1)-x*gen(2)-y*gen(2)-y*gen(1)-z*gen(2)-z*gen(1)\n",
       "3*y^2*z*gen(1)+3*y*z^2*gen(1)-x*gen(3)-y*gen(3)-z*gen(3)\n",
       "3*y^4*gen(1)-6*y^3*gen(1)+3*y*z^2*gen(1)+3*y^2*gen(1)+3*y*z*gen(1)-x*gen(4)-y*gen(4)-z*gen(4)"
      ]
     },
     "execution_count": 9,
     "metadata": {},
     "output_type": "execute_result"
    },
    {
     "name": "stdout",
     "output_type": "stream",
     "text": [
      ", with Generators:\n"
     ]
    }
   ],
   "source": [
    "std_syzygies = std( basis_syzygies )"
   ]
  },
  {
   "cell_type": "markdown",
   "metadata": {},
   "source": [
    "Use a polynomial ring over a Nemo number field"
   ]
  },
  {
   "cell_type": "code",
   "execution_count": 10,
   "metadata": {},
   "outputs": [
    {
     "data": {
      "text/plain": [
       "(Singular Polynomial Ring (Coeffs(18)),(x,y,z),(dp(3),C), Singular.spoly{Singular.n_unknown{Nemo.nf_elem}}[x, y, z])"
      ]
     },
     "execution_count": 10,
     "metadata": {},
     "output_type": "execute_result"
    }
   ],
   "source": [
    "R, t = Nemo.PolynomialRing(Nemo.QQ, \"t\")\n",
    "K, a = Nemo.NumberField(t^3 + 3t + 1, \"a\")\n",
    "S, (x, y, z) = PolynomialRing(K, [\"x\", \"y\", \"z\"])"
   ]
  },
  {
   "cell_type": "markdown",
   "metadata": {},
   "source": [
    "Create some polynomials"
   ]
  },
  {
   "cell_type": "code",
   "execution_count": 11,
   "metadata": {},
   "outputs": [
    {
     "data": {
      "text/plain": [
       "x^3+y^3+(a)*z^3"
      ]
     },
     "execution_count": 11,
     "metadata": {},
     "output_type": "execute_result"
    }
   ],
   "source": [
    "p = x + a^2*y + a*z\n",
    "q = x + 2*a*y^2 + (a^2+a)*z^3\n",
    "r = x^3 + y^3 + a*z^3"
   ]
  },
  {
   "cell_type": "markdown",
   "metadata": {},
   "source": [
    "Create an ideal containing the polynomials p,q,r"
   ]
  },
  {
   "cell_type": "code",
   "execution_count": 12,
   "metadata": {},
   "outputs": [
    {
     "data": {
      "text/plain": [
       "Singular Ideal over Singular Polynomial Ring (Coeffs(18)),(x,y,z),(dp(3),C) with generators (x+(a^2)*y+(a)*z, (a^2 + 1*a)*z^3+(2*a)*y^2+x, x^3+y^3+(a)*z^3)"
      ]
     },
     "execution_count": 12,
     "metadata": {},
     "output_type": "execute_result"
    }
   ],
   "source": [
    "ideal = Ideal( S, [ p, q, r ] )"
   ]
  },
  {
   "cell_type": "markdown",
   "metadata": {},
   "source": [
    "Compute a standard basis of the ideal"
   ]
  },
  {
   "cell_type": "code",
   "execution_count": 13,
   "metadata": {},
   "outputs": [
    {
     "data": {
      "text/plain": [
       "Singular Ideal over Singular Polynomial Ring (Coeffs(18)),(x,y,z),(dp(3),C) with generators (x+(a^2)*y+(a)*z, z^3+(2//3*a^2 - 2//3*a + 8//3)*y^2+(1//3*a^2 - 1//3*a + 1//3)*y+(-1//3*a^2 + 1//3*a - 4//3)*z, y^3+(-6//35*a^2 - 31//35*a - 9//35)*y^2*z+(9//35*a^2 - 6//35*a - 4//35)*y*z^2+(2//7*a^2 - 4//21*a + 16//21)*y^2+(2//21*a^2 + 1//21*a + 1//7)*y+(-1//7*a^2 + 2//21*a - 8//21)*z)"
      ]
     },
     "execution_count": 13,
     "metadata": {},
     "output_type": "execute_result"
    }
   ],
   "source": [
    "basis = std( ideal )"
   ]
  }
 ],
 "metadata": {
  "kernelspec": {
   "display_name": "Julia 0.6.3",
   "language": "julia",
   "name": "julia-0.6"
  },
  "language_info": {
   "file_extension": ".jl",
   "mimetype": "application/julia",
   "name": "julia",
   "version": "0.6.3"
  }
 },
 "nbformat": 4,
 "nbformat_minor": 2
}
